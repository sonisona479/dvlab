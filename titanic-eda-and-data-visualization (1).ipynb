{
 "cells": [
  {
   "cell_type": "markdown",
   "metadata": {},
   "source": [
    "<h2 style='background:#FFFFFF; border:0; color:black'><center>Titanic: <span style=\"color:red\">EDA</span> and <span style=\"color:blue\">Data Visualization</span><center><h2>"
   ]
  },
  {
   "cell_type": "markdown",
   "metadata": {},
   "source": [
    "![](https://upload.wikimedia.org/wikipedia/commons/f/fd/RMS_Titanic_3.jpg)\n",
    "* [Image Source](https://en.wikipedia.org/wiki/Titanic)"
   ]
  },
  {
   "cell_type": "markdown",
   "metadata": {
    "_cell_guid": "79c7e3d0-c299-4dcb-8224-4455121ee9b0",
    "_uuid": "d629ff2d2480ee46fbb7e2d37f6b5fab8052498a"
   },
   "source": [
    "* In this notebook, we visualize and analyze titanic data by using Plotly.\n",
    "* If you like this notebook, please **give an upvote!**.\n",
    "* Reference:  [Plotly Official Website](https://plotly.com/)"
   ]
  },
  {
   "cell_type": "markdown",
   "metadata": {},
   "source": [
    "<h2 style='background:#FFFFFF; border:0; color:black'><center>What is \"Plotly\"?<center><h2>"
   ]
  },
  {
   "cell_type": "markdown",
   "metadata": {},
   "source": [
    "* **Plotly** is one of the most popular data visualization library.\n",
    "* Among kagglers, matplotlib or seaborn are more popular, but I recommend Plotly.\n",
    "* This is because that you can draw beautiful graphs easily by using Plotly."
   ]
  },
  {
   "cell_type": "code",
   "execution_count": 1,
   "metadata": {
    "_cell_guid": "b1076dfc-b9ad-4769-8c92-a6c4dae69d19",
    "_kg_hide-input": true,
    "_uuid": "8f2839f25d086af736a60e9eeb907d3b93b6e0e5"
   },
   "outputs": [
    {
     "data": {
      "text/plain": [
       "\"import os\\nfor dirname, _, filenames in os.walk('/kaggle/input'):\\n    for filename in filenames:\\n        print(os.path.join(dirname, filename))\""
      ]
     },
     "execution_count": 1,
     "metadata": {},
     "output_type": "execute_result"
    }
   ],
   "source": [
    "'''import os\n",
    "for dirname, _, filenames in os.walk('/kaggle/input'):\n",
    "    for filename in filenames:\n",
    "        print(os.path.join(dirname, filename))'''"
   ]
  },
  {
   "cell_type": "markdown",
   "metadata": {},
   "source": [
    "# import libraries"
   ]
  },
  {
   "cell_type": "code",
   "execution_count": 3,
   "metadata": {},
   "outputs": [
    {
     "name": "stdout",
     "output_type": "stream",
     "text": [
      "Collecting numpy\n",
      "  Downloading numpy-2.1.1-cp312-cp312-win_amd64.whl.metadata (59 kB)\n",
      "Downloading numpy-2.1.1-cp312-cp312-win_amd64.whl (12.6 MB)\n",
      "   ---------------------------------------- 0.0/12.6 MB ? eta -:--:--\n",
      "   - -------------------------------------- 0.5/12.6 MB 2.8 MB/s eta 0:00:05\n",
      "   --- ------------------------------------ 1.0/12.6 MB 3.0 MB/s eta 0:00:04\n",
      "   ----- ---------------------------------- 1.8/12.6 MB 3.2 MB/s eta 0:00:04\n",
      "   -------- ------------------------------- 2.6/12.6 MB 3.6 MB/s eta 0:00:03\n",
      "   ---------- ----------------------------- 3.1/12.6 MB 3.3 MB/s eta 0:00:03\n",
      "   ---------- ----------------------------- 3.4/12.6 MB 3.1 MB/s eta 0:00:03\n",
      "   ------------ --------------------------- 3.9/12.6 MB 2.9 MB/s eta 0:00:03\n",
      "   -------------- ------------------------- 4.5/12.6 MB 2.7 MB/s eta 0:00:03\n",
      "   --------------- ------------------------ 5.0/12.6 MB 2.7 MB/s eta 0:00:03\n",
      "   ----------------- ---------------------- 5.5/12.6 MB 2.7 MB/s eta 0:00:03\n",
      "   ------------------- -------------------- 6.0/12.6 MB 2.6 MB/s eta 0:00:03\n",
      "   -------------------- ------------------- 6.6/12.6 MB 2.6 MB/s eta 0:00:03\n",
      "   --------------------- ------------------ 6.8/12.6 MB 2.6 MB/s eta 0:00:03\n",
      "   ------------------------ --------------- 7.6/12.6 MB 2.6 MB/s eta 0:00:02\n",
      "   ------------------------- -------------- 8.1/12.6 MB 2.6 MB/s eta 0:00:02\n",
      "   --------------------------- ------------ 8.7/12.6 MB 2.6 MB/s eta 0:00:02\n",
      "   ------------------------------ --------- 9.4/12.6 MB 2.7 MB/s eta 0:00:02\n",
      "   ------------------------------- -------- 10.0/12.6 MB 2.7 MB/s eta 0:00:01\n",
      "   --------------------------------- ------ 10.5/12.6 MB 2.7 MB/s eta 0:00:01\n",
      "   ----------------------------------- ---- 11.0/12.6 MB 2.7 MB/s eta 0:00:01\n",
      "   ------------------------------------ --- 11.5/12.6 MB 2.7 MB/s eta 0:00:01\n",
      "   -------------------------------------- - 12.1/12.6 MB 2.6 MB/s eta 0:00:01\n",
      "   ---------------------------------------- 12.6/12.6 MB 2.6 MB/s eta 0:00:00\n",
      "Installing collected packages: numpy\n",
      "Successfully installed numpy-2.1.1\n",
      "Note: you may need to restart the kernel to use updated packages.\n"
     ]
    }
   ],
   "source": [
    "pip install numpy"
   ]
  },
  {
   "cell_type": "code",
   "execution_count": 5,
   "metadata": {},
   "outputs": [
    {
     "name": "stdout",
     "output_type": "stream",
     "text": [
      "Collecting pandasNote: you may need to restart the kernel to use updated packages.\n",
      "\n",
      "  Downloading pandas-2.2.3-cp312-cp312-win_amd64.whl.metadata (19 kB)\n",
      "Requirement already satisfied: numpy>=1.26.0 in c:\\users\\sonas\\sonasoni\\envs\\cv_lab\\lib\\site-packages (from pandas) (2.1.1)\n",
      "Requirement already satisfied: python-dateutil>=2.8.2 in c:\\users\\sonas\\sonasoni\\envs\\cv_lab\\lib\\site-packages (from pandas) (2.9.0.post0)\n",
      "Requirement already satisfied: pytz>=2020.1 in c:\\users\\sonas\\sonasoni\\envs\\cv_lab\\lib\\site-packages (from pandas) (2024.1)\n",
      "Collecting tzdata>=2022.7 (from pandas)\n",
      "  Downloading tzdata-2024.2-py2.py3-none-any.whl.metadata (1.4 kB)\n",
      "Requirement already satisfied: six>=1.5 in c:\\users\\sonas\\sonasoni\\envs\\cv_lab\\lib\\site-packages (from python-dateutil>=2.8.2->pandas) (1.16.0)\n",
      "Downloading pandas-2.2.3-cp312-cp312-win_amd64.whl (11.5 MB)\n",
      "   ---------------------------------------- 0.0/11.5 MB ? eta -:--:--\n",
      "   ---------------------------------------- 0.0/11.5 MB ? eta -:--:--\n",
      "   ---------------------------------------- 0.0/11.5 MB ? eta -:--:--\n",
      "    --------------------------------------- 0.3/11.5 MB ? eta -:--:--\n",
      "    --------------------------------------- 0.3/11.5 MB ? eta -:--:--\n",
      "    --------------------------------------- 0.3/11.5 MB ? eta -:--:--\n",
      "   - -------------------------------------- 0.5/11.5 MB 541.6 kB/s eta 0:00:21\n",
      "   - -------------------------------------- 0.5/11.5 MB 541.6 kB/s eta 0:00:21\n",
      "   -- ------------------------------------- 0.8/11.5 MB 569.3 kB/s eta 0:00:19\n",
      "   -- ------------------------------------- 0.8/11.5 MB 569.3 kB/s eta 0:00:19\n",
      "   --- ------------------------------------ 1.0/11.5 MB 585.6 kB/s eta 0:00:18\n",
      "   ---- ----------------------------------- 1.3/11.5 MB 610.3 kB/s eta 0:00:17\n",
      "   ---- ----------------------------------- 1.3/11.5 MB 610.3 kB/s eta 0:00:17\n",
      "   ----- ---------------------------------- 1.6/11.5 MB 612.5 kB/s eta 0:00:17\n",
      "   ----- ---------------------------------- 1.6/11.5 MB 612.5 kB/s eta 0:00:17\n",
      "   ------ --------------------------------- 1.8/11.5 MB 610.1 kB/s eta 0:00:16\n",
      "   ------ --------------------------------- 1.8/11.5 MB 610.1 kB/s eta 0:00:16\n",
      "   ------- -------------------------------- 2.1/11.5 MB 621.4 kB/s eta 0:00:16\n",
      "   ------- -------------------------------- 2.1/11.5 MB 621.4 kB/s eta 0:00:16\n",
      "   -------- ------------------------------- 2.4/11.5 MB 630.2 kB/s eta 0:00:15\n",
      "   --------- ------------------------------ 2.6/11.5 MB 645.3 kB/s eta 0:00:14\n",
      "   --------- ------------------------------ 2.6/11.5 MB 645.3 kB/s eta 0:00:14\n",
      "   ---------- ----------------------------- 2.9/11.5 MB 660.6 kB/s eta 0:00:14\n",
      "   ---------- ----------------------------- 3.1/11.5 MB 676.1 kB/s eta 0:00:13\n",
      "   ---------- ----------------------------- 3.1/11.5 MB 676.1 kB/s eta 0:00:13\n",
      "   ----------- ---------------------------- 3.4/11.5 MB 673.5 kB/s eta 0:00:13\n",
      "   ----------- ---------------------------- 3.4/11.5 MB 673.5 kB/s eta 0:00:13\n",
      "   ------------ --------------------------- 3.7/11.5 MB 677.4 kB/s eta 0:00:12\n",
      "   ------------ --------------------------- 3.7/11.5 MB 677.4 kB/s eta 0:00:12\n",
      "   ------------- -------------------------- 3.9/11.5 MB 686.9 kB/s eta 0:00:12\n",
      "   -------------- ------------------------- 4.2/11.5 MB 707.0 kB/s eta 0:00:11\n",
      "   --------------- ------------------------ 4.5/11.5 MB 717.8 kB/s eta 0:00:10\n",
      "   ---------------- ----------------------- 4.7/11.5 MB 733.2 kB/s eta 0:00:10\n",
      "   ----------------- ---------------------- 5.0/11.5 MB 747.6 kB/s eta 0:00:09\n",
      "   ------------------ --------------------- 5.2/11.5 MB 760.9 kB/s eta 0:00:09\n",
      "   ------------------- -------------------- 5.5/11.5 MB 778.6 kB/s eta 0:00:08\n",
      "   ------------------- -------------------- 5.5/11.5 MB 778.6 kB/s eta 0:00:08\n",
      "   -------------------- ------------------- 6.0/11.5 MB 807.7 kB/s eta 0:00:07\n",
      "   --------------------- ------------------ 6.3/11.5 MB 819.3 kB/s eta 0:00:07\n",
      "   ---------------------- ----------------- 6.6/11.5 MB 830.2 kB/s eta 0:00:06\n",
      "   ----------------------- ---------------- 6.8/11.5 MB 842.3 kB/s eta 0:00:06\n",
      "   ------------------------ --------------- 7.1/11.5 MB 855.4 kB/s eta 0:00:06\n",
      "   ------------------------- -------------- 7.3/11.5 MB 866.2 kB/s eta 0:00:05\n",
      "   -------------------------- ------------- 7.6/11.5 MB 878.1 kB/s eta 0:00:05\n",
      "   --------------------------- ------------ 7.9/11.5 MB 883.0 kB/s eta 0:00:05\n",
      "   ---------------------------- ----------- 8.1/11.5 MB 892.5 kB/s eta 0:00:04\n",
      "   ---------------------------- ----------- 8.1/11.5 MB 892.5 kB/s eta 0:00:04\n",
      "   ----------------------------- ---------- 8.4/11.5 MB 896.8 kB/s eta 0:00:04\n",
      "   ------------------------------ --------- 8.7/11.5 MB 902.4 kB/s eta 0:00:04\n",
      "   ------------------------------ --------- 8.9/11.5 MB 910.6 kB/s eta 0:00:03\n",
      "   ------------------------------- -------- 9.2/11.5 MB 906.9 kB/s eta 0:00:03\n",
      "   -------------------------------- ------- 9.4/11.5 MB 917.5 kB/s eta 0:00:03\n",
      "   --------------------------------- ------ 9.7/11.5 MB 923.6 kB/s eta 0:00:02\n",
      "   ---------------------------------- ----- 10.0/11.5 MB 932.1 kB/s eta 0:00:02\n",
      "   ----------------------------------- ---- 10.2/11.5 MB 939.0 kB/s eta 0:00:02\n",
      "   ------------------------------------ --- 10.5/11.5 MB 945.6 kB/s eta 0:00:02\n",
      "   ------------------------------------- -- 10.7/11.5 MB 945.3 kB/s eta 0:00:01\n",
      "   -------------------------------------- - 11.0/11.5 MB 950.1 kB/s eta 0:00:01\n",
      "   ---------------------------------------  11.3/11.5 MB 957.4 kB/s eta 0:00:01\n",
      "   ---------------------------------------- 11.5/11.5 MB 963.3 kB/s eta 0:00:00\n",
      "Downloading tzdata-2024.2-py2.py3-none-any.whl (346 kB)\n",
      "Installing collected packages: tzdata, pandas\n",
      "Successfully installed pandas-2.2.3 tzdata-2024.2\n"
     ]
    }
   ],
   "source": [
    "pip install pandas"
   ]
  },
  {
   "cell_type": "code",
   "execution_count": 7,
   "metadata": {},
   "outputs": [
    {
     "name": "stdout",
     "output_type": "stream",
     "text": [
      "Collecting plotlyNote: you may need to restart the kernel to use updated packages.\n",
      "\n",
      "  Downloading plotly-5.24.1-py3-none-any.whl.metadata (7.3 kB)\n",
      "Collecting tenacity>=6.2.0 (from plotly)\n",
      "  Downloading tenacity-9.0.0-py3-none-any.whl.metadata (1.2 kB)\n",
      "Requirement already satisfied: packaging in c:\\users\\sonas\\sonasoni\\envs\\cv_lab\\lib\\site-packages (from plotly) (24.1)\n",
      "Downloading plotly-5.24.1-py3-none-any.whl (19.1 MB)\n",
      "   ---------------------------------------- 0.0/19.1 MB ? eta -:--:--\n",
      "    --------------------------------------- 0.3/19.1 MB ? eta -:--:--\n",
      "   - -------------------------------------- 0.8/19.1 MB 2.2 MB/s eta 0:00:09\n",
      "   -- ------------------------------------- 1.0/19.1 MB 2.2 MB/s eta 0:00:09\n",
      "   --- ------------------------------------ 1.8/19.1 MB 2.3 MB/s eta 0:00:08\n",
      "   ---- ----------------------------------- 2.4/19.1 MB 2.4 MB/s eta 0:00:07\n",
      "   ------ --------------------------------- 2.9/19.1 MB 2.5 MB/s eta 0:00:07\n",
      "   ------- -------------------------------- 3.7/19.1 MB 2.6 MB/s eta 0:00:06\n",
      "   --------- ------------------------------ 4.5/19.1 MB 2.8 MB/s eta 0:00:06\n",
      "   ---------- ----------------------------- 5.0/19.1 MB 2.8 MB/s eta 0:00:06\n",
      "   ----------- ---------------------------- 5.2/19.1 MB 2.6 MB/s eta 0:00:06\n",
      "   ------------ --------------------------- 5.8/19.1 MB 2.6 MB/s eta 0:00:06\n",
      "   ------------- -------------------------- 6.6/19.1 MB 2.7 MB/s eta 0:00:05\n",
      "   -------------- ------------------------- 6.8/19.1 MB 2.7 MB/s eta 0:00:05\n",
      "   --------------- ------------------------ 7.6/19.1 MB 2.7 MB/s eta 0:00:05\n",
      "   ----------------- ---------------------- 8.4/19.1 MB 2.8 MB/s eta 0:00:04\n",
      "   ------------------- -------------------- 9.2/19.1 MB 2.8 MB/s eta 0:00:04\n",
      "   -------------------- ------------------- 9.7/19.1 MB 2.8 MB/s eta 0:00:04\n",
      "   --------------------- ------------------ 10.2/19.1 MB 2.8 MB/s eta 0:00:04\n",
      "   ---------------------- ----------------- 10.7/19.1 MB 2.8 MB/s eta 0:00:04\n",
      "   ----------------------- ---------------- 11.3/19.1 MB 2.7 MB/s eta 0:00:03\n",
      "   ------------------------ --------------- 11.8/19.1 MB 2.8 MB/s eta 0:00:03\n",
      "   -------------------------- ------------- 12.6/19.1 MB 2.8 MB/s eta 0:00:03\n",
      "   --------------------------- ------------ 13.1/19.1 MB 2.8 MB/s eta 0:00:03\n",
      "   ---------------------------- ----------- 13.6/19.1 MB 2.8 MB/s eta 0:00:02\n",
      "   ----------------------------- ---------- 14.2/19.1 MB 2.7 MB/s eta 0:00:02\n",
      "   ------------------------------- -------- 14.9/19.1 MB 2.8 MB/s eta 0:00:02\n",
      "   ------------------------------- -------- 15.2/19.1 MB 2.8 MB/s eta 0:00:02\n",
      "   --------------------------------- ------ 15.7/19.1 MB 2.7 MB/s eta 0:00:02\n",
      "   ---------------------------------- ----- 16.5/19.1 MB 2.8 MB/s eta 0:00:01\n",
      "   ----------------------------------- ---- 17.0/19.1 MB 2.8 MB/s eta 0:00:01\n",
      "   ------------------------------------ --- 17.6/19.1 MB 2.8 MB/s eta 0:00:01\n",
      "   ------------------------------------- -- 18.1/19.1 MB 2.7 MB/s eta 0:00:01\n",
      "   ---------------------------------------  18.6/19.1 MB 2.7 MB/s eta 0:00:01\n",
      "   ---------------------------------------- 19.1/19.1 MB 2.7 MB/s eta 0:00:00\n",
      "Downloading tenacity-9.0.0-py3-none-any.whl (28 kB)\n",
      "Installing collected packages: tenacity, plotly\n",
      "Successfully installed plotly-5.24.1 tenacity-9.0.0\n"
     ]
    }
   ],
   "source": [
    "pip install plotly"
   ]
  },
  {
   "cell_type": "code",
   "execution_count": 8,
   "metadata": {},
   "outputs": [],
   "source": [
    "import numpy as np\n",
    "import pandas as pd\n",
    "import plotly.express as px\n",
    "import plotly.graph_objects as go"
   ]
  },
  {
   "cell_type": "markdown",
   "metadata": {},
   "source": [
    "# Reading csv files"
   ]
  },
  {
   "cell_type": "code",
   "execution_count": 9,
   "metadata": {},
   "outputs": [],
   "source": [
    "train = pd.read_csv('train.csv')\n",
    "test = pd.read_csv('test.csv')"
   ]
  },
  {
   "cell_type": "code",
   "execution_count": 12,
   "metadata": {},
   "outputs": [
    {
     "data": {
      "text/html": [
       "<div>\n",
       "<style scoped>\n",
       "    .dataframe tbody tr th:only-of-type {\n",
       "        vertical-align: middle;\n",
       "    }\n",
       "\n",
       "    .dataframe tbody tr th {\n",
       "        vertical-align: top;\n",
       "    }\n",
       "\n",
       "    .dataframe thead th {\n",
       "        text-align: right;\n",
       "    }\n",
       "</style>\n",
       "<table border=\"1\" class=\"dataframe\">\n",
       "  <thead>\n",
       "    <tr style=\"text-align: right;\">\n",
       "      <th></th>\n",
       "      <th>PassengerId</th>\n",
       "      <th>Survived</th>\n",
       "      <th>Pclass</th>\n",
       "      <th>Name</th>\n",
       "      <th>Sex</th>\n",
       "      <th>Age</th>\n",
       "      <th>SibSp</th>\n",
       "      <th>Parch</th>\n",
       "      <th>Ticket</th>\n",
       "      <th>Fare</th>\n",
       "      <th>Cabin</th>\n",
       "      <th>Embarked</th>\n",
       "    </tr>\n",
       "  </thead>\n",
       "  <tbody>\n",
       "    <tr>\n",
       "      <th>0</th>\n",
       "      <td>1</td>\n",
       "      <td>0</td>\n",
       "      <td>3</td>\n",
       "      <td>Braund, Mr. Owen Harris</td>\n",
       "      <td>male</td>\n",
       "      <td>22.0</td>\n",
       "      <td>1</td>\n",
       "      <td>0</td>\n",
       "      <td>A/5 21171</td>\n",
       "      <td>7.2500</td>\n",
       "      <td>NaN</td>\n",
       "      <td>S</td>\n",
       "    </tr>\n",
       "    <tr>\n",
       "      <th>1</th>\n",
       "      <td>2</td>\n",
       "      <td>1</td>\n",
       "      <td>1</td>\n",
       "      <td>Cumings, Mrs. John Bradley (Florence Briggs Th...</td>\n",
       "      <td>female</td>\n",
       "      <td>38.0</td>\n",
       "      <td>1</td>\n",
       "      <td>0</td>\n",
       "      <td>PC 17599</td>\n",
       "      <td>71.2833</td>\n",
       "      <td>C85</td>\n",
       "      <td>C</td>\n",
       "    </tr>\n",
       "    <tr>\n",
       "      <th>2</th>\n",
       "      <td>3</td>\n",
       "      <td>1</td>\n",
       "      <td>3</td>\n",
       "      <td>Heikkinen, Miss. Laina</td>\n",
       "      <td>female</td>\n",
       "      <td>26.0</td>\n",
       "      <td>0</td>\n",
       "      <td>0</td>\n",
       "      <td>STON/O2. 3101282</td>\n",
       "      <td>7.9250</td>\n",
       "      <td>NaN</td>\n",
       "      <td>S</td>\n",
       "    </tr>\n",
       "    <tr>\n",
       "      <th>3</th>\n",
       "      <td>4</td>\n",
       "      <td>1</td>\n",
       "      <td>1</td>\n",
       "      <td>Futrelle, Mrs. Jacques Heath (Lily May Peel)</td>\n",
       "      <td>female</td>\n",
       "      <td>35.0</td>\n",
       "      <td>1</td>\n",
       "      <td>0</td>\n",
       "      <td>113803</td>\n",
       "      <td>53.1000</td>\n",
       "      <td>C123</td>\n",
       "      <td>S</td>\n",
       "    </tr>\n",
       "    <tr>\n",
       "      <th>4</th>\n",
       "      <td>5</td>\n",
       "      <td>0</td>\n",
       "      <td>3</td>\n",
       "      <td>Allen, Mr. William Henry</td>\n",
       "      <td>male</td>\n",
       "      <td>35.0</td>\n",
       "      <td>0</td>\n",
       "      <td>0</td>\n",
       "      <td>373450</td>\n",
       "      <td>8.0500</td>\n",
       "      <td>NaN</td>\n",
       "      <td>S</td>\n",
       "    </tr>\n",
       "    <tr>\n",
       "      <th>...</th>\n",
       "      <td>...</td>\n",
       "      <td>...</td>\n",
       "      <td>...</td>\n",
       "      <td>...</td>\n",
       "      <td>...</td>\n",
       "      <td>...</td>\n",
       "      <td>...</td>\n",
       "      <td>...</td>\n",
       "      <td>...</td>\n",
       "      <td>...</td>\n",
       "      <td>...</td>\n",
       "      <td>...</td>\n",
       "    </tr>\n",
       "    <tr>\n",
       "      <th>886</th>\n",
       "      <td>887</td>\n",
       "      <td>0</td>\n",
       "      <td>2</td>\n",
       "      <td>Montvila, Rev. Juozas</td>\n",
       "      <td>male</td>\n",
       "      <td>27.0</td>\n",
       "      <td>0</td>\n",
       "      <td>0</td>\n",
       "      <td>211536</td>\n",
       "      <td>13.0000</td>\n",
       "      <td>NaN</td>\n",
       "      <td>S</td>\n",
       "    </tr>\n",
       "    <tr>\n",
       "      <th>887</th>\n",
       "      <td>888</td>\n",
       "      <td>1</td>\n",
       "      <td>1</td>\n",
       "      <td>Graham, Miss. Margaret Edith</td>\n",
       "      <td>female</td>\n",
       "      <td>19.0</td>\n",
       "      <td>0</td>\n",
       "      <td>0</td>\n",
       "      <td>112053</td>\n",
       "      <td>30.0000</td>\n",
       "      <td>B42</td>\n",
       "      <td>S</td>\n",
       "    </tr>\n",
       "    <tr>\n",
       "      <th>888</th>\n",
       "      <td>889</td>\n",
       "      <td>0</td>\n",
       "      <td>3</td>\n",
       "      <td>Johnston, Miss. Catherine Helen \"Carrie\"</td>\n",
       "      <td>female</td>\n",
       "      <td>NaN</td>\n",
       "      <td>1</td>\n",
       "      <td>2</td>\n",
       "      <td>W./C. 6607</td>\n",
       "      <td>23.4500</td>\n",
       "      <td>NaN</td>\n",
       "      <td>S</td>\n",
       "    </tr>\n",
       "    <tr>\n",
       "      <th>889</th>\n",
       "      <td>890</td>\n",
       "      <td>1</td>\n",
       "      <td>1</td>\n",
       "      <td>Behr, Mr. Karl Howell</td>\n",
       "      <td>male</td>\n",
       "      <td>26.0</td>\n",
       "      <td>0</td>\n",
       "      <td>0</td>\n",
       "      <td>111369</td>\n",
       "      <td>30.0000</td>\n",
       "      <td>C148</td>\n",
       "      <td>C</td>\n",
       "    </tr>\n",
       "    <tr>\n",
       "      <th>890</th>\n",
       "      <td>891</td>\n",
       "      <td>0</td>\n",
       "      <td>3</td>\n",
       "      <td>Dooley, Mr. Patrick</td>\n",
       "      <td>male</td>\n",
       "      <td>32.0</td>\n",
       "      <td>0</td>\n",
       "      <td>0</td>\n",
       "      <td>370376</td>\n",
       "      <td>7.7500</td>\n",
       "      <td>NaN</td>\n",
       "      <td>Q</td>\n",
       "    </tr>\n",
       "  </tbody>\n",
       "</table>\n",
       "<p>891 rows × 12 columns</p>\n",
       "</div>"
      ],
      "text/plain": [
       "     PassengerId  Survived  Pclass  \\\n",
       "0              1         0       3   \n",
       "1              2         1       1   \n",
       "2              3         1       3   \n",
       "3              4         1       1   \n",
       "4              5         0       3   \n",
       "..           ...       ...     ...   \n",
       "886          887         0       2   \n",
       "887          888         1       1   \n",
       "888          889         0       3   \n",
       "889          890         1       1   \n",
       "890          891         0       3   \n",
       "\n",
       "                                                  Name     Sex   Age  SibSp  \\\n",
       "0                              Braund, Mr. Owen Harris    male  22.0      1   \n",
       "1    Cumings, Mrs. John Bradley (Florence Briggs Th...  female  38.0      1   \n",
       "2                               Heikkinen, Miss. Laina  female  26.0      0   \n",
       "3         Futrelle, Mrs. Jacques Heath (Lily May Peel)  female  35.0      1   \n",
       "4                             Allen, Mr. William Henry    male  35.0      0   \n",
       "..                                                 ...     ...   ...    ...   \n",
       "886                              Montvila, Rev. Juozas    male  27.0      0   \n",
       "887                       Graham, Miss. Margaret Edith  female  19.0      0   \n",
       "888           Johnston, Miss. Catherine Helen \"Carrie\"  female   NaN      1   \n",
       "889                              Behr, Mr. Karl Howell    male  26.0      0   \n",
       "890                                Dooley, Mr. Patrick    male  32.0      0   \n",
       "\n",
       "     Parch            Ticket     Fare Cabin Embarked  \n",
       "0        0         A/5 21171   7.2500   NaN        S  \n",
       "1        0          PC 17599  71.2833   C85        C  \n",
       "2        0  STON/O2. 3101282   7.9250   NaN        S  \n",
       "3        0            113803  53.1000  C123        S  \n",
       "4        0            373450   8.0500   NaN        S  \n",
       "..     ...               ...      ...   ...      ...  \n",
       "886      0            211536  13.0000   NaN        S  \n",
       "887      0            112053  30.0000   B42        S  \n",
       "888      2        W./C. 6607  23.4500   NaN        S  \n",
       "889      0            111369  30.0000  C148        C  \n",
       "890      0            370376   7.7500   NaN        Q  \n",
       "\n",
       "[891 rows x 12 columns]"
      ]
     },
     "execution_count": 12,
     "metadata": {},
     "output_type": "execute_result"
    }
   ],
   "source": [
    "train"
   ]
  },
  {
   "cell_type": "code",
   "execution_count": 10,
   "metadata": {
    "_kg_hide-input": true
   },
   "outputs": [
    {
     "data": {
      "text/html": [
       "<div>\n",
       "<style scoped>\n",
       "    .dataframe tbody tr th:only-of-type {\n",
       "        vertical-align: middle;\n",
       "    }\n",
       "\n",
       "    .dataframe tbody tr th {\n",
       "        vertical-align: top;\n",
       "    }\n",
       "\n",
       "    .dataframe thead th {\n",
       "        text-align: right;\n",
       "    }\n",
       "</style>\n",
       "<table border=\"1\" class=\"dataframe\">\n",
       "  <thead>\n",
       "    <tr style=\"text-align: right;\">\n",
       "      <th></th>\n",
       "      <th>PassengerId</th>\n",
       "      <th>Survived</th>\n",
       "      <th>Pclass</th>\n",
       "      <th>Name</th>\n",
       "      <th>Sex</th>\n",
       "      <th>Age</th>\n",
       "      <th>SibSp</th>\n",
       "      <th>Parch</th>\n",
       "      <th>Ticket</th>\n",
       "      <th>Fare</th>\n",
       "      <th>Cabin</th>\n",
       "      <th>Embarked</th>\n",
       "    </tr>\n",
       "  </thead>\n",
       "  <tbody>\n",
       "    <tr>\n",
       "      <th>0</th>\n",
       "      <td>1</td>\n",
       "      <td>0</td>\n",
       "      <td>3</td>\n",
       "      <td>Braund, Mr. Owen Harris</td>\n",
       "      <td>male</td>\n",
       "      <td>22.0</td>\n",
       "      <td>1</td>\n",
       "      <td>0</td>\n",
       "      <td>A/5 21171</td>\n",
       "      <td>7.2500</td>\n",
       "      <td>NaN</td>\n",
       "      <td>S</td>\n",
       "    </tr>\n",
       "    <tr>\n",
       "      <th>1</th>\n",
       "      <td>2</td>\n",
       "      <td>1</td>\n",
       "      <td>1</td>\n",
       "      <td>Cumings, Mrs. John Bradley (Florence Briggs Th...</td>\n",
       "      <td>female</td>\n",
       "      <td>38.0</td>\n",
       "      <td>1</td>\n",
       "      <td>0</td>\n",
       "      <td>PC 17599</td>\n",
       "      <td>71.2833</td>\n",
       "      <td>C85</td>\n",
       "      <td>C</td>\n",
       "    </tr>\n",
       "    <tr>\n",
       "      <th>2</th>\n",
       "      <td>3</td>\n",
       "      <td>1</td>\n",
       "      <td>3</td>\n",
       "      <td>Heikkinen, Miss. Laina</td>\n",
       "      <td>female</td>\n",
       "      <td>26.0</td>\n",
       "      <td>0</td>\n",
       "      <td>0</td>\n",
       "      <td>STON/O2. 3101282</td>\n",
       "      <td>7.9250</td>\n",
       "      <td>NaN</td>\n",
       "      <td>S</td>\n",
       "    </tr>\n",
       "    <tr>\n",
       "      <th>3</th>\n",
       "      <td>4</td>\n",
       "      <td>1</td>\n",
       "      <td>1</td>\n",
       "      <td>Futrelle, Mrs. Jacques Heath (Lily May Peel)</td>\n",
       "      <td>female</td>\n",
       "      <td>35.0</td>\n",
       "      <td>1</td>\n",
       "      <td>0</td>\n",
       "      <td>113803</td>\n",
       "      <td>53.1000</td>\n",
       "      <td>C123</td>\n",
       "      <td>S</td>\n",
       "    </tr>\n",
       "    <tr>\n",
       "      <th>4</th>\n",
       "      <td>5</td>\n",
       "      <td>0</td>\n",
       "      <td>3</td>\n",
       "      <td>Allen, Mr. William Henry</td>\n",
       "      <td>male</td>\n",
       "      <td>35.0</td>\n",
       "      <td>0</td>\n",
       "      <td>0</td>\n",
       "      <td>373450</td>\n",
       "      <td>8.0500</td>\n",
       "      <td>NaN</td>\n",
       "      <td>S</td>\n",
       "    </tr>\n",
       "  </tbody>\n",
       "</table>\n",
       "</div>"
      ],
      "text/plain": [
       "   PassengerId  Survived  Pclass  \\\n",
       "0            1         0       3   \n",
       "1            2         1       1   \n",
       "2            3         1       3   \n",
       "3            4         1       1   \n",
       "4            5         0       3   \n",
       "\n",
       "                                                Name     Sex   Age  SibSp  \\\n",
       "0                            Braund, Mr. Owen Harris    male  22.0      1   \n",
       "1  Cumings, Mrs. John Bradley (Florence Briggs Th...  female  38.0      1   \n",
       "2                             Heikkinen, Miss. Laina  female  26.0      0   \n",
       "3       Futrelle, Mrs. Jacques Heath (Lily May Peel)  female  35.0      1   \n",
       "4                           Allen, Mr. William Henry    male  35.0      0   \n",
       "\n",
       "   Parch            Ticket     Fare Cabin Embarked  \n",
       "0      0         A/5 21171   7.2500   NaN        S  \n",
       "1      0          PC 17599  71.2833   C85        C  \n",
       "2      0  STON/O2. 3101282   7.9250   NaN        S  \n",
       "3      0            113803  53.1000  C123        S  \n",
       "4      0            373450   8.0500   NaN        S  "
      ]
     },
     "execution_count": 10,
     "metadata": {},
     "output_type": "execute_result"
    }
   ],
   "source": [
    "train.head()"
   ]
  },
  {
   "cell_type": "code",
   "execution_count": 11,
   "metadata": {
    "_kg_hide-input": true
   },
   "outputs": [
    {
     "data": {
      "text/html": [
       "<div>\n",
       "<style scoped>\n",
       "    .dataframe tbody tr th:only-of-type {\n",
       "        vertical-align: middle;\n",
       "    }\n",
       "\n",
       "    .dataframe tbody tr th {\n",
       "        vertical-align: top;\n",
       "    }\n",
       "\n",
       "    .dataframe thead th {\n",
       "        text-align: right;\n",
       "    }\n",
       "</style>\n",
       "<table border=\"1\" class=\"dataframe\">\n",
       "  <thead>\n",
       "    <tr style=\"text-align: right;\">\n",
       "      <th></th>\n",
       "      <th>PassengerId</th>\n",
       "      <th>Pclass</th>\n",
       "      <th>Name</th>\n",
       "      <th>Sex</th>\n",
       "      <th>Age</th>\n",
       "      <th>SibSp</th>\n",
       "      <th>Parch</th>\n",
       "      <th>Ticket</th>\n",
       "      <th>Fare</th>\n",
       "      <th>Cabin</th>\n",
       "      <th>Embarked</th>\n",
       "    </tr>\n",
       "  </thead>\n",
       "  <tbody>\n",
       "    <tr>\n",
       "      <th>0</th>\n",
       "      <td>892</td>\n",
       "      <td>3</td>\n",
       "      <td>Kelly, Mr. James</td>\n",
       "      <td>male</td>\n",
       "      <td>34.5</td>\n",
       "      <td>0</td>\n",
       "      <td>0</td>\n",
       "      <td>330911</td>\n",
       "      <td>7.8292</td>\n",
       "      <td>NaN</td>\n",
       "      <td>Q</td>\n",
       "    </tr>\n",
       "    <tr>\n",
       "      <th>1</th>\n",
       "      <td>893</td>\n",
       "      <td>3</td>\n",
       "      <td>Wilkes, Mrs. James (Ellen Needs)</td>\n",
       "      <td>female</td>\n",
       "      <td>47.0</td>\n",
       "      <td>1</td>\n",
       "      <td>0</td>\n",
       "      <td>363272</td>\n",
       "      <td>7.0000</td>\n",
       "      <td>NaN</td>\n",
       "      <td>S</td>\n",
       "    </tr>\n",
       "    <tr>\n",
       "      <th>2</th>\n",
       "      <td>894</td>\n",
       "      <td>2</td>\n",
       "      <td>Myles, Mr. Thomas Francis</td>\n",
       "      <td>male</td>\n",
       "      <td>62.0</td>\n",
       "      <td>0</td>\n",
       "      <td>0</td>\n",
       "      <td>240276</td>\n",
       "      <td>9.6875</td>\n",
       "      <td>NaN</td>\n",
       "      <td>Q</td>\n",
       "    </tr>\n",
       "    <tr>\n",
       "      <th>3</th>\n",
       "      <td>895</td>\n",
       "      <td>3</td>\n",
       "      <td>Wirz, Mr. Albert</td>\n",
       "      <td>male</td>\n",
       "      <td>27.0</td>\n",
       "      <td>0</td>\n",
       "      <td>0</td>\n",
       "      <td>315154</td>\n",
       "      <td>8.6625</td>\n",
       "      <td>NaN</td>\n",
       "      <td>S</td>\n",
       "    </tr>\n",
       "    <tr>\n",
       "      <th>4</th>\n",
       "      <td>896</td>\n",
       "      <td>3</td>\n",
       "      <td>Hirvonen, Mrs. Alexander (Helga E Lindqvist)</td>\n",
       "      <td>female</td>\n",
       "      <td>22.0</td>\n",
       "      <td>1</td>\n",
       "      <td>1</td>\n",
       "      <td>3101298</td>\n",
       "      <td>12.2875</td>\n",
       "      <td>NaN</td>\n",
       "      <td>S</td>\n",
       "    </tr>\n",
       "  </tbody>\n",
       "</table>\n",
       "</div>"
      ],
      "text/plain": [
       "   PassengerId  Pclass                                          Name     Sex  \\\n",
       "0          892       3                              Kelly, Mr. James    male   \n",
       "1          893       3              Wilkes, Mrs. James (Ellen Needs)  female   \n",
       "2          894       2                     Myles, Mr. Thomas Francis    male   \n",
       "3          895       3                              Wirz, Mr. Albert    male   \n",
       "4          896       3  Hirvonen, Mrs. Alexander (Helga E Lindqvist)  female   \n",
       "\n",
       "    Age  SibSp  Parch   Ticket     Fare Cabin Embarked  \n",
       "0  34.5      0      0   330911   7.8292   NaN        Q  \n",
       "1  47.0      1      0   363272   7.0000   NaN        S  \n",
       "2  62.0      0      0   240276   9.6875   NaN        Q  \n",
       "3  27.0      0      0   315154   8.6625   NaN        S  \n",
       "4  22.0      1      1  3101298  12.2875   NaN        S  "
      ]
     },
     "execution_count": 11,
     "metadata": {},
     "output_type": "execute_result"
    }
   ],
   "source": [
    "test.head()"
   ]
  },
  {
   "cell_type": "markdown",
   "metadata": {},
   "source": [
    "<h2 style='background:#FFFFFF; border:0; color:black'><center>Data Visualization using Plotly<center><h2>"
   ]
  },
  {
   "cell_type": "markdown",
   "metadata": {},
   "source": [
    "# Survived or Not (train only)"
   ]
  },
  {
   "cell_type": "markdown",
   "metadata": {},
   "source": [
    "* The column \"Survived\" is the target.\n",
    "* In titanic competition, we have to predict it.\n",
    "* If a passenger's  <span style=\"color:red\">\"Survived\" is 1</span>, it means that he/she could survive, but if <span style=\"color:blue\">it is 0</span>, it means that he/she could not survive."
   ]
  },
  {
   "cell_type": "code",
   "execution_count": null,
   "metadata": {
    "_kg_hide-input": true
   },
   "outputs": [],
   "source": [
    "train[\"Survived\"] = [\"Survived\" if i == 1 else \"Not Survived\" for i in train[\"Survived\"]]"
   ]
  },
  {
   "cell_type": "code",
   "execution_count": null,
   "metadata": {
    "_kg_hide-input": true
   },
   "outputs": [],
   "source": [
    "fig = px.histogram(train, x=\"Survived\",title=\"How many passengers survived?\")\n",
    "fig.show()"
   ]
  },
  {
   "cell_type": "markdown",
   "metadata": {},
   "source": [
    "# Pcalss (train and test)"
   ]
  },
  {
   "cell_type": "markdown",
   "metadata": {},
   "source": [
    "* The column \"Pclass\" shows the ticket class.\n",
    "\n",
    "| Pclass | Ticket Class |\n",
    "| --- | --- |\n",
    "| 1 |  1st class|\n",
    "| 2 | 2nd class|\n",
    "| 3 | 3rd class|"
   ]
  },
  {
   "cell_type": "code",
   "execution_count": 13,
   "metadata": {},
   "outputs": [],
   "source": [
    "def pclass_changes(df):\n",
    "    df[\"Pclass\"] = [\"1st\" if i == 1 else i for i in df[\"Pclass\"]]\n",
    "    df[\"Pclass\"] = [\"2nd\" if i == 2 else i for i in df[\"Pclass\"]]\n",
    "    df[\"Pclass\"] = [\"3rd\" if i == 3 else i for i in df[\"Pclass\"]]\n",
    "    \n",
    "    return df"
   ]
  },
  {
   "cell_type": "code",
   "execution_count": null,
   "metadata": {
    "_kg_hide-input": true
   },
   "outputs": [],
   "source": [
    "train = pclass_changes(train)\n",
    "test = pclass_changes(test)"
   ]
  },
  {
   "cell_type": "code",
   "execution_count": null,
   "metadata": {
    "_kg_hide-input": true
   },
   "outputs": [],
   "source": [
    "fig = px.histogram(train, x=\"Pclass\",title=\"Pclass(train.csv)\",labels={\"Pclass\":\"Ticket Class\"})\n",
    "fig.show()"
   ]
  },
  {
   "cell_type": "code",
   "execution_count": null,
   "metadata": {
    "_kg_hide-input": true
   },
   "outputs": [],
   "source": [
    "fig = px.histogram(test, x=\"Pclass\",title=\"Pclass(test.csv)\",labels={\"Pclass\":\"Ticket Class\"})\n",
    "fig.show()"
   ]
  },
  {
   "cell_type": "markdown",
   "metadata": {},
   "source": [
    "# Sex (train and test)"
   ]
  },
  {
   "cell_type": "code",
   "execution_count": null,
   "metadata": {
    "_kg_hide-input": true
   },
   "outputs": [],
   "source": [
    "fig = px.histogram(train, x=\"Sex\",title=\"Male or Female(train.csv)\")\n",
    "fig.show()"
   ]
  },
  {
   "cell_type": "code",
   "execution_count": null,
   "metadata": {
    "_kg_hide-input": true
   },
   "outputs": [],
   "source": [
    "fig = px.histogram(test, x=\"Sex\",title=\"Male or Female(test.csv)\")\n",
    "fig.show()"
   ]
  },
  {
   "cell_type": "markdown",
   "metadata": {},
   "source": [
    "# Age (train and test)"
   ]
  },
  {
   "cell_type": "code",
   "execution_count": null,
   "metadata": {
    "_kg_hide-input": true
   },
   "outputs": [],
   "source": [
    "fig = px.histogram(train, x=\"Age\",title=\"How old were the passengers? (train.csv)\")\n",
    "fig.show()"
   ]
  },
  {
   "cell_type": "code",
   "execution_count": null,
   "metadata": {
    "_kg_hide-input": true
   },
   "outputs": [],
   "source": [
    "fig = px.histogram(test, x=\"Age\",title=\"How old were the passengers? (test.csv)\")\n",
    "fig.show()"
   ]
  },
  {
   "cell_type": "markdown",
   "metadata": {},
   "source": [
    "# SibSp (train and test)"
   ]
  },
  {
   "cell_type": "markdown",
   "metadata": {},
   "source": [
    "* The column \"SibSp\" shows the number of siblings / spouses aboard the Titanic."
   ]
  },
  {
   "cell_type": "code",
   "execution_count": null,
   "metadata": {
    "_kg_hide-input": true
   },
   "outputs": [],
   "source": [
    "fig = px.histogram(train, x=\"SibSp\",\n",
    "                   title=\"Did the passengers board with their siblings or spouse? (train.csv)\",\n",
    "                  labels={\"SibSp\":\"Number of siblings or spouse abroad the Titanic\"})\n",
    "fig.show()"
   ]
  },
  {
   "cell_type": "code",
   "execution_count": null,
   "metadata": {
    "_kg_hide-input": true
   },
   "outputs": [],
   "source": [
    "fig = px.histogram(test, x=\"SibSp\",\n",
    "                   title=\"Did the passengers board with their siblings or spouse? (test.csv)\",\n",
    "                  labels={\"SibSp\":\"Number of siblings or spouse abroad the Titanic\"})\n",
    "fig.show()"
   ]
  },
  {
   "cell_type": "markdown",
   "metadata": {},
   "source": [
    "# Parch (train and test)"
   ]
  },
  {
   "cell_type": "markdown",
   "metadata": {},
   "source": [
    "* The column Parch shows the number of  parents / children aboard the Titanic."
   ]
  },
  {
   "cell_type": "code",
   "execution_count": null,
   "metadata": {
    "_kg_hide-input": true
   },
   "outputs": [],
   "source": [
    "fig = px.histogram(train, x=\"Parch\",\n",
    "                   title=\"Did the passengers board with their parents or chidren? (train.csv)\",\n",
    "                  labels={\"Parch\":\"Number of parents or children abroad the Titanic\"})\n",
    "fig.show()"
   ]
  },
  {
   "cell_type": "code",
   "execution_count": null,
   "metadata": {
    "_kg_hide-input": true
   },
   "outputs": [],
   "source": [
    "fig = px.histogram(test, x=\"Parch\",\n",
    "                   title=\"Did the passengers board with their parents or children? (test.csv)\",\n",
    "                  labels={\"Parch\":\"Number of parents or children abroad the Titanic\"})\n",
    "fig.show()"
   ]
  },
  {
   "cell_type": "markdown",
   "metadata": {},
   "source": [
    "# Fare (train and test)"
   ]
  },
  {
   "cell_type": "code",
   "execution_count": null,
   "metadata": {
    "_kg_hide-input": true
   },
   "outputs": [],
   "source": [
    "fig = px.histogram(train, x=\"Fare\",title=\"How much did the passengers pay to get on the Titanic? (train.csv)\")\n",
    "fig.show()"
   ]
  },
  {
   "cell_type": "code",
   "execution_count": null,
   "metadata": {
    "_kg_hide-input": true
   },
   "outputs": [],
   "source": [
    "fig = px.histogram(test, x=\"Fare\",title=\"How much did the passengers pay to get on the Titanic? (test.csv)\")\n",
    "fig.show()"
   ]
  },
  {
   "cell_type": "markdown",
   "metadata": {},
   "source": [
    "# Embarked(train and test)"
   ]
  },
  {
   "cell_type": "markdown",
   "metadata": {},
   "source": [
    "* The column \"Embarked\" shows the name of port where passengers went on board."
   ]
  },
  {
   "cell_type": "code",
   "execution_count": null,
   "metadata": {
    "_kg_hide-input": true
   },
   "outputs": [],
   "source": [
    "def Embarked_changes(df):\n",
    "    #df[\"Embarked\"] = df[\"Embarked\"].dropna()\n",
    "    df[\"Embarked\"] = [\"Cherbourg\" if i == \"C\" else i for i in df[\"Embarked\"] ]\n",
    "    df[\"Embarked\"] = [\"Queenstown\" if i == \"Q\" else i for i in df[\"Embarked\"]]\n",
    "    df[\"Embarked\"] = [\"Southampton\" if i == \"S\" else i for i in df[\"Embarked\"]]\n",
    "    \n",
    "    return df"
   ]
  },
  {
   "cell_type": "code",
   "execution_count": null,
   "metadata": {
    "_kg_hide-input": true
   },
   "outputs": [],
   "source": [
    "train = Embarked_changes(train)\n",
    "test = Embarked_changes(test)"
   ]
  },
  {
   "cell_type": "code",
   "execution_count": null,
   "metadata": {
    "_kg_hide-input": true
   },
   "outputs": [],
   "source": [
    "fig = px.histogram(train, x=\"Embarked\",\n",
    "                   title=\"Which port did the passengers embark? (train.csv)\",\n",
    "                   labels={\"Embarked\":\"Port of Embarkation\"})\n",
    "fig.show()"
   ]
  },
  {
   "cell_type": "code",
   "execution_count": null,
   "metadata": {
    "_kg_hide-input": true
   },
   "outputs": [],
   "source": [
    "fig = px.histogram(test, x=\"Embarked\",\n",
    "                   title=\"Which port did the passengers embark? (test.csv)\",\n",
    "                   labels={\"Embarked\":\"Port of Embarkation\"})\n",
    "fig.show()"
   ]
  },
  {
   "cell_type": "markdown",
   "metadata": {},
   "source": [
    "<h2 style='background:#FFFFFF; border:0; color:black'><center>Data Analytics with Graph<center><h2>"
   ]
  },
  {
   "cell_type": "markdown",
   "metadata": {},
   "source": [
    "# The correlation between \"Survived\" and \"Sex\""
   ]
  },
  {
   "cell_type": "code",
   "execution_count": null,
   "metadata": {
    "_kg_hide-input": true,
    "_kg_hide-output": false
   },
   "outputs": [],
   "source": [
    "survived_or_not_male = [0,0]\n",
    "survived_or_not_female = [0,0]\n",
    "\n",
    "for i in train[train[\"Survived\"] != \"Survived\"][\"Sex\"]:\n",
    "    if i == \"male\":\n",
    "        survived_or_not_male[0] += 1\n",
    "    elif i == \"female\":\n",
    "        survived_or_not_female[0] += 1\n",
    "\n",
    "for i in train[train[\"Survived\"] == \"Survived\"][\"Sex\"]:\n",
    "    if i == \"male\":\n",
    "        survived_or_not_male[1] += 1\n",
    "    elif i == \"female\":\n",
    "        survived_or_not_female[1] += 1"
   ]
  },
  {
   "cell_type": "code",
   "execution_count": null,
   "metadata": {
    "_kg_hide-input": true
   },
   "outputs": [],
   "source": [
    "survived_sex = pd.DataFrame(data=[[survived_or_not_male[0],survived_or_not_female[0]],[survived_or_not_male[1],survived_or_not_female[1]]],\n",
    "                           columns=['male','female'],index=['Not Survived','Survived'])"
   ]
  },
  {
   "cell_type": "code",
   "execution_count": null,
   "metadata": {
    "_kg_hide-input": true
   },
   "outputs": [],
   "source": [
    "survived_sex"
   ]
  },
  {
   "cell_type": "code",
   "execution_count": null,
   "metadata": {
    "_kg_hide-input": true
   },
   "outputs": [],
   "source": [
    "fig = px.bar(survived_sex,x=\"male\",title=\"Survived or Not (Male)\")\n",
    "fig.show()"
   ]
  },
  {
   "cell_type": "code",
   "execution_count": null,
   "metadata": {
    "_kg_hide-input": true
   },
   "outputs": [],
   "source": [
    "fig = px.bar(survived_sex,x=\"female\",title=\"Survived or Not (Female)\")\n",
    "fig.show()"
   ]
  },
  {
   "cell_type": "markdown",
   "metadata": {},
   "source": [
    "# Survival Rate by gender\n",
    "* Male: <span style=\"color: blue; \">18.89%</span> (109/577)\n",
    "* Female: <span style=\"color: red; \">74.20%</span> (233/314)\n",
    "\n",
    "* In this notebook,especially <span style=\"color: red; \">high</span>/<span style=\"color: blue; \">low</span> rates are written in <span style=\"color: red; \">red</span>/<span style=\"color: blue; \">blue</span>."
   ]
  },
  {
   "cell_type": "markdown",
   "metadata": {},
   "source": [
    "* These graphs imply that more women survived than men."
   ]
  },
  {
   "cell_type": "markdown",
   "metadata": {},
   "source": [
    "# The correlation between \"Survived\" and \"Age\""
   ]
  },
  {
   "cell_type": "code",
   "execution_count": null,
   "metadata": {
    "_kg_hide-input": true
   },
   "outputs": [],
   "source": [
    "survived_age = [0,0,0,0]\n",
    "survived_not_age = [0,0,0,0]\n",
    "for i in train[train[\"Survived\"] != \"Survived\"][\"Age\"]:\n",
    "    if i < 20.0:\n",
    "        survived_not_age[0] += 1\n",
    "    elif i < 40.0:\n",
    "        survived_not_age[1] += 1\n",
    "    elif i < 60.0:\n",
    "        survived_not_age[2] += 1\n",
    "    else:\n",
    "        survived_not_age[3] += 1\n",
    "        \n",
    "for i in train[train[\"Survived\"] == \"Survived\"][\"Age\"]:\n",
    "    if i < 20.0:\n",
    "        survived_age[0] += 1\n",
    "    elif i < 40.0:\n",
    "        survived_age[1] += 1\n",
    "    elif i < 60.0:\n",
    "        survived_age[2] += 1\n",
    "    else:\n",
    "        survived_age[3] += 1"
   ]
  },
  {
   "cell_type": "code",
   "execution_count": null,
   "metadata": {
    "_kg_hide-input": true
   },
   "outputs": [],
   "source": [
    "survived_or_not_age = pd.DataFrame(data=[[survived_age[0],survived_age[1],survived_age[2],survived_age[3]],[survived_not_age[0],survived_not_age[1],survived_not_age[2],survived_not_age[3]]],\n",
    "                           columns=['0~20','20~40','40~60','60~'],index=['Survived','Not Survived'])"
   ]
  },
  {
   "cell_type": "code",
   "execution_count": null,
   "metadata": {
    "_kg_hide-input": true
   },
   "outputs": [],
   "source": [
    "survived_or_not_age"
   ]
  },
  {
   "cell_type": "code",
   "execution_count": null,
   "metadata": {
    "_kg_hide-input": true
   },
   "outputs": [],
   "source": [
    "fig = px.bar(survived_or_not_age,x=\"0~20\",title=\"Survived or Not (Age < 20)\")\n",
    "fig.update_xaxes(title_text='The number of Passengers')\n",
    "fig.update_yaxes(title_text='')\n",
    "fig.show()"
   ]
  },
  {
   "cell_type": "code",
   "execution_count": null,
   "metadata": {
    "_kg_hide-input": true
   },
   "outputs": [],
   "source": [
    "fig = px.bar(survived_or_not_age,x=\"20~40\",title=\"Survived or Not (20 <= Age < 40)\")\n",
    "fig.update_xaxes(title_text='The number of Passengers')\n",
    "fig.update_yaxes(title_text='')\n",
    "fig.show()"
   ]
  },
  {
   "cell_type": "code",
   "execution_count": null,
   "metadata": {
    "_kg_hide-input": true
   },
   "outputs": [],
   "source": [
    "fig = px.bar(survived_or_not_age,x=\"40~60\",title=\"Survived or Not (40 <= Age < 60)\")\n",
    "fig.update_xaxes(title_text='The number of Passengers')\n",
    "fig.update_yaxes(title_text='')\n",
    "fig.show()"
   ]
  },
  {
   "cell_type": "code",
   "execution_count": null,
   "metadata": {
    "_kg_hide-input": true
   },
   "outputs": [],
   "source": [
    "fig = px.bar(survived_or_not_age,x=\"60~\",title=\"Survived or Not (60 <= Age)\")\n",
    "fig.update_xaxes(title_text='The number of Passengers')\n",
    "fig.update_yaxes(title_text='')\n",
    "fig.show()"
   ]
  },
  {
   "cell_type": "markdown",
   "metadata": {},
   "source": [
    "# Survival Rate by age\n",
    "* 0~20: <span style=\"color: red; \">48.17%</span> (79/164)\n",
    "* 20~40: 38.75% (150/387)\n",
    "* 40~60: 39.41% (54/137)\n",
    "* 60~ :  <span style=\"color: blue; \">29.06%</span> (59/203)"
   ]
  },
  {
   "cell_type": "markdown",
   "metadata": {},
   "source": [
    "* These graphs imply that passengers under 20 survived more than other passengers."
   ]
  },
  {
   "cell_type": "markdown",
   "metadata": {},
   "source": [
    "# The correlation between \"Survived\" and \"Pclass\""
   ]
  },
  {
   "cell_type": "code",
   "execution_count": null,
   "metadata": {
    "_kg_hide-input": true
   },
   "outputs": [],
   "source": [
    "survive_pclass = [0,0,0]\n",
    "survive_not_pclass = [0,0,0]\n",
    "for i in train[train[\"Survived\"] != \"Survived\"][\"Pclass\"]:\n",
    "    if i == \"1st\":\n",
    "        survive_not_pclass[0] += 1\n",
    "    elif i == \"2nd\":\n",
    "        survive_not_pclass[1] += 1\n",
    "    else:\n",
    "        survive_not_pclass[2] += 1\n",
    "for i in train[train[\"Survived\"] == \"Survived\"][\"Pclass\"]:\n",
    "    if i == \"1st\":\n",
    "        survive_pclass[0] += 1\n",
    "    elif i == \"2nd\":\n",
    "        survive_pclass[1] += 1\n",
    "    else:\n",
    "        survive_pclass[2] += 1"
   ]
  },
  {
   "cell_type": "code",
   "execution_count": null,
   "metadata": {
    "_kg_hide-input": true
   },
   "outputs": [],
   "source": [
    "survived_pclass = pd.DataFrame(data=[[survive_not_pclass[0],survive_not_pclass[1],survive_not_pclass[2]],[survive_pclass[0],survive_pclass[1],survive_pclass[2]]],\n",
    "                           columns=['1st','2nd','3rd'],index=['Not Survived','Survived'])"
   ]
  },
  {
   "cell_type": "code",
   "execution_count": null,
   "metadata": {
    "_kg_hide-input": true
   },
   "outputs": [],
   "source": [
    "survived_pclass"
   ]
  },
  {
   "cell_type": "code",
   "execution_count": null,
   "metadata": {
    "_kg_hide-input": true
   },
   "outputs": [],
   "source": [
    "fig = px.bar(survived_pclass,x=\"1st\",title=\"Survived or Not (1st Class)\")\n",
    "fig.update_xaxes(title_text='The number of Passengers')\n",
    "fig.update_yaxes(title_text='')\n",
    "fig.show()"
   ]
  },
  {
   "cell_type": "code",
   "execution_count": null,
   "metadata": {
    "_kg_hide-input": true
   },
   "outputs": [],
   "source": [
    "fig = px.bar(survived_pclass,x=\"2nd\",title=\"Survived or Not (2nd Class)\")\n",
    "fig.update_xaxes(title_text='The number of Passengers')\n",
    "fig.update_yaxes(title_text='')\n",
    "fig.show()"
   ]
  },
  {
   "cell_type": "code",
   "execution_count": null,
   "metadata": {
    "_kg_hide-input": true
   },
   "outputs": [],
   "source": [
    "fig = px.bar(survived_pclass,x=\"3rd\",title=\"Survived or Not (3rd Class)\")\n",
    "fig.update_xaxes(title_text='The number of Passengers')\n",
    "fig.update_yaxes(title_text='')\n",
    "fig.show()"
   ]
  },
  {
   "cell_type": "markdown",
   "metadata": {},
   "source": [
    "# Survival Rate by class\n",
    "* 1st Class: <span style=\"color: red; \">62.96%</span> (136/216)\n",
    "* 2nd Class: 47.28% (87/184)\n",
    "* 3rd Class: <span style=\"color: blue; \">24.23%</span> (119/491)"
   ]
  },
  {
   "cell_type": "markdown",
   "metadata": {},
   "source": [
    "* These graphs imply that 1st class passengers survived more than other and most of 3rd passengers could not survive."
   ]
  },
  {
   "cell_type": "markdown",
   "metadata": {},
   "source": [
    "# The correlation between \"Survived\" and \"Embarked\""
   ]
  },
  {
   "cell_type": "code",
   "execution_count": null,
   "metadata": {
    "_kg_hide-input": true
   },
   "outputs": [],
   "source": [
    "survived_port = [0,0,0]\n",
    "survived_not_port = [0,0,0]\n",
    "for i in train[train[\"Survived\"] != \"Survived\"][\"Embarked\"]:\n",
    "    if i == \"Cherbourg\":\n",
    "        survived_not_port[0] += 1\n",
    "    elif i == \"Queenstown\":\n",
    "        survived_not_port[1] += 1\n",
    "    elif i == \"Southampton\":\n",
    "        survived_not_port[2] += 1\n",
    "for i in train[train[\"Survived\"] == \"Survived\"][\"Embarked\"]:\n",
    "    if i == \"Cherbourg\":\n",
    "        survived_port[0] += 1\n",
    "    elif i == \"Queenstown\":\n",
    "        survived_port[1] += 1\n",
    "    elif i == \"Southampton\":\n",
    "        survived_port[2] += 1\n",
    "        "
   ]
  },
  {
   "cell_type": "code",
   "execution_count": null,
   "metadata": {
    "_kg_hide-input": true
   },
   "outputs": [],
   "source": [
    "survived_or_not_port = pd.DataFrame(data=[[survived_not_port[0],survived_not_port[1],survived_not_port[2]],[survived_port[0],survived_port[1],survived_port[2]]],\n",
    "                           columns=['Cherbourg','Queenstown','Southampton'],index=['Not Survived','Survived'])"
   ]
  },
  {
   "cell_type": "code",
   "execution_count": null,
   "metadata": {
    "_kg_hide-input": true
   },
   "outputs": [],
   "source": [
    "survived_or_not_port"
   ]
  },
  {
   "cell_type": "code",
   "execution_count": null,
   "metadata": {
    "_kg_hide-input": true
   },
   "outputs": [],
   "source": [
    "fig = px.bar(survived_or_not_port,x=\"Cherbourg\",title=\"Survived or Not (Port:Cherbourg)\")\n",
    "fig.update_xaxes(title_text='The number of Passengers')\n",
    "fig.update_yaxes(title_text='')\n",
    "fig.show()"
   ]
  },
  {
   "cell_type": "code",
   "execution_count": null,
   "metadata": {
    "_kg_hide-input": true
   },
   "outputs": [],
   "source": [
    "fig = px.bar(survived_or_not_port,x=\"Queenstown\",title=\"Survived or Not (Port:Queenstown)\")\n",
    "fig.update_xaxes(title_text='The number of Passengers')\n",
    "fig.update_yaxes(title_text='')\n",
    "fig.show()"
   ]
  },
  {
   "cell_type": "code",
   "execution_count": null,
   "metadata": {
    "_kg_hide-input": true
   },
   "outputs": [],
   "source": [
    "fig = px.bar(survived_or_not_port,x=\"Southampton\",title=\"Survived or Not (Port:Southampton)\")\n",
    "fig.update_xaxes(title_text='The number of Passengers')\n",
    "fig.update_yaxes(title_text='')\n",
    "fig.show()"
   ]
  },
  {
   "cell_type": "markdown",
   "metadata": {},
   "source": [
    "# Survival Rate by port\n",
    "* Cherbourg: <span style=\"color: red; \">55.35%</span> (93/168)\n",
    "* Queenstown: 38.96% (30/77)\n",
    "* Southampton: 33.69% (217/644)"
   ]
  },
  {
   "cell_type": "markdown",
   "metadata": {
    "_kg_hide-input": false
   },
   "source": [
    "* These graphs imply that passengers embarked at Cherbourg survived more than other passengers."
   ]
  },
  {
   "cell_type": "markdown",
   "metadata": {},
   "source": [
    "# The correlation between Survived and \"Cabin\""
   ]
  },
  {
   "cell_type": "code",
   "execution_count": null,
   "metadata": {},
   "outputs": [],
   "source": [
    "train[\"Cabin\"].unique()"
   ]
  },
  {
   "cell_type": "markdown",
   "metadata": {},
   "source": [
    "* We'll classify passengers by Cabin initials(A,B,C,D,E,F)\n",
    "* Cabin \"T\" and \"G6\" and missing values will be excluded."
   ]
  },
  {
   "cell_type": "code",
   "execution_count": null,
   "metadata": {
    "_kg_hide-input": true
   },
   "outputs": [],
   "source": [
    "cabin_initial = [0,0,0,0,0,0]\n",
    "cabin_initial_not = [0,0,0,0,0,0]\n",
    "for i in train[train[\"Survived\"] == \"Survived\"][\"Cabin\"]:\n",
    "    if list(str(i))[0] == \"A\":\n",
    "        cabin_initial[0] += 1\n",
    "    elif list(str(i))[0] == \"B\":\n",
    "        cabin_initial[1] += 1\n",
    "    elif list(str(i))[0] == \"C\":\n",
    "        cabin_initial[2] += 1\n",
    "    elif list(str(i))[0] == \"D\":\n",
    "        cabin_initial[3] += 1\n",
    "    elif list(str(i))[0] == \"E\":\n",
    "        cabin_initial[4] += 1\n",
    "    elif list(str(i))[0] == \"F\":\n",
    "        cabin_initial[5] += 1\n",
    "for i in train[train[\"Survived\"] != \"Survived\"][\"Cabin\"]:\n",
    "    if list(str(i))[0] == \"A\":\n",
    "        cabin_initial_not[0] += 1\n",
    "    elif list(str(i))[0] == \"B\":\n",
    "        cabin_initial_not[1] += 1\n",
    "    elif list(str(i))[0] == \"C\":\n",
    "        cabin_initial_not[2] += 1\n",
    "    elif list(str(i))[0] == \"D\":\n",
    "        cabin_initial_not[3] += 1\n",
    "    elif list(str(i))[0] == \"E\":\n",
    "        cabin_initial_not[4] += 1\n",
    "    elif list(str(i))[0] == \"F\":\n",
    "        cabin_initial_not[5] += 1\n",
    "    \n",
    "        "
   ]
  },
  {
   "cell_type": "code",
   "execution_count": null,
   "metadata": {
    "_kg_hide-input": true
   },
   "outputs": [],
   "source": [
    "survived_cabin = pd.DataFrame(data=[[cabin_initial[0],cabin_initial[1],cabin_initial[2],cabin_initial[3],cabin_initial[4],cabin_initial[5]],\n",
    "                                     [cabin_initial_not[0],cabin_initial_not[1],cabin_initial_not[2],cabin_initial_not[3],cabin_initial_not[4],cabin_initial_not[5]]],\n",
    "                                    columns=[\"Cabin Initials A\",\"Cabin Initials B\",\"Cabin Initials C\",\"Cabin Initials D\",\"Cabin Initials E\",\"Cabin Initials F\"],index = [\"Survived\",\"Not Survived\"])"
   ]
  },
  {
   "cell_type": "code",
   "execution_count": null,
   "metadata": {
    "_kg_hide-input": true
   },
   "outputs": [],
   "source": [
    "survived_cabin"
   ]
  },
  {
   "cell_type": "code",
   "execution_count": null,
   "metadata": {
    "_kg_hide-input": true
   },
   "outputs": [],
   "source": [
    "fig = px.bar(survived_cabin,x=\"Cabin Initials A\",title=\"Survived or Not (Cabin: initials A)\")\n",
    "fig.update_xaxes(title_text='The number of Passengers')\n",
    "fig.update_yaxes(title_text='')\n",
    "fig.show()"
   ]
  },
  {
   "cell_type": "code",
   "execution_count": null,
   "metadata": {
    "_kg_hide-input": true
   },
   "outputs": [],
   "source": [
    "fig = px.bar(survived_cabin,x=\"Cabin Initials B\",title=\"Survived or Not (Cabin: initials B)\")\n",
    "fig.update_xaxes(title_text='The number of Passengers')\n",
    "fig.update_yaxes(title_text='')\n",
    "fig.show()"
   ]
  },
  {
   "cell_type": "code",
   "execution_count": null,
   "metadata": {
    "_kg_hide-input": true
   },
   "outputs": [],
   "source": [
    "fig = px.bar(survived_cabin,x=\"Cabin Initials C\",title=\"Survived or Not (Cabin: initials C)\")\n",
    "fig.update_xaxes(title_text='The number of Passengers')\n",
    "fig.update_yaxes(title_text='')\n",
    "fig.show()"
   ]
  },
  {
   "cell_type": "code",
   "execution_count": null,
   "metadata": {
    "_kg_hide-input": true
   },
   "outputs": [],
   "source": [
    "fig = px.bar(survived_cabin,x=\"Cabin Initials D\",title=\"Survived or Not (Cabin: initials D)\")\n",
    "fig.update_xaxes(title_text='The number of Passengers')\n",
    "fig.update_yaxes(title_text='')\n",
    "fig.show()"
   ]
  },
  {
   "cell_type": "code",
   "execution_count": null,
   "metadata": {
    "_kg_hide-input": true
   },
   "outputs": [],
   "source": [
    "fig = px.bar(survived_cabin,x=\"Cabin Initials E\",title=\"Survived or Not (Cabin: initials E)\")\n",
    "fig.update_xaxes(title_text='The number of Passengers')\n",
    "fig.update_yaxes(title_text='')\n",
    "fig.show()"
   ]
  },
  {
   "cell_type": "code",
   "execution_count": null,
   "metadata": {
    "_kg_hide-input": true
   },
   "outputs": [],
   "source": [
    "fig = px.bar(survived_cabin,x=\"Cabin Initials F\",title=\"Survived or Not (Cabin: initials F)\")\n",
    "fig.update_xaxes(title_text='The number of Passengers')\n",
    "fig.update_yaxes(title_text='')\n",
    "fig.show()"
   ]
  },
  {
   "cell_type": "markdown",
   "metadata": {},
   "source": [
    "# Survival Rate by room number initials\n",
    "* A: <span style=\"color: blue; \">46.66%</span> (7/15)\n",
    "* B: 74.46% (35/47)\n",
    "* C: 71.42% (35/49)\n",
    "* D: 75.75% (25/33)\n",
    "* E: 75.00% (24/32)\n",
    "* F: 61.53% (8/13)"
   ]
  },
  {
   "cell_type": "markdown",
   "metadata": {},
   "source": [
    "* These graphs imply that there is a correlation between Survived and Cabin.\n",
    "* Survival rate of passengers whose cabin(room number) starts with \"A\" was less than 50%.\n"
   ]
  },
  {
   "cell_type": "markdown",
   "metadata": {},
   "source": [
    "<h2 style='background:#FFFFFF; border:0; color:black'><center>The number of missing values(NaN)<center><h2>"
   ]
  },
  {
   "cell_type": "markdown",
   "metadata": {},
   "source": [
    "# Columns contain missing values"
   ]
  },
  {
   "cell_type": "code",
   "execution_count": null,
   "metadata": {
    "_kg_hide-input": true
   },
   "outputs": [],
   "source": [
    "train.isnull().sum()"
   ]
  },
  {
   "cell_type": "code",
   "execution_count": null,
   "metadata": {
    "_kg_hide-input": true
   },
   "outputs": [],
   "source": [
    "test.isnull().sum()"
   ]
  },
  {
   "cell_type": "code",
   "execution_count": null,
   "metadata": {
    "_kg_hide-input": true
   },
   "outputs": [],
   "source": [
    "missing_train = train.isnull().sum()\n",
    "missing_test = test.isnull().sum()"
   ]
  },
  {
   "cell_type": "code",
   "execution_count": null,
   "metadata": {
    "_kg_hide-input": true
   },
   "outputs": [],
   "source": [
    "missing_values = pd.DataFrame(data=[missing_train,missing_test],index=['train','test'])"
   ]
  },
  {
   "cell_type": "code",
   "execution_count": null,
   "metadata": {
    "_kg_hide-input": true
   },
   "outputs": [],
   "source": [
    "missing_values = missing_values.T"
   ]
  },
  {
   "cell_type": "code",
   "execution_count": null,
   "metadata": {
    "_kg_hide-input": true
   },
   "outputs": [],
   "source": [
    "missing_values"
   ]
  },
  {
   "cell_type": "markdown",
   "metadata": {},
   "source": [
    "* \"Survived\" in the test column is NaN because test.csv doesn't have \"Survived\" column."
   ]
  },
  {
   "cell_type": "code",
   "execution_count": null,
   "metadata": {
    "_kg_hide-input": true
   },
   "outputs": [],
   "source": [
    "fig = px.bar(missing_values,x=\"train\",title=\"Missing Values(train.csv)\")\n",
    "fig.update_xaxes(title_text='The number of missing values')\n",
    "fig.update_yaxes(title_text='Columns')\n",
    "fig.show()"
   ]
  },
  {
   "cell_type": "code",
   "execution_count": null,
   "metadata": {
    "_kg_hide-input": true
   },
   "outputs": [],
   "source": [
    "fig = px.bar(missing_values,x=\"test\",title=\"Missing Values(test.csv)\")\n",
    "fig.update_xaxes(title_text='The number of missing values')\n",
    "fig.update_yaxes(title_text='Columns')\n",
    "fig.show()"
   ]
  },
  {
   "cell_type": "markdown",
   "metadata": {},
   "source": [
    "# Thank you for reading!  \n",
    "# If you like, feel free to upvote!"
   ]
  }
 ],
 "metadata": {
  "kaggle": {
   "accelerator": "none",
   "dataSources": [
    {
     "databundleVersionId": 26502,
     "sourceId": 3136,
     "sourceType": "competition"
    }
   ],
   "dockerImageVersionId": 30035,
   "isGpuEnabled": false,
   "isInternetEnabled": false,
   "language": "python",
   "sourceType": "notebook"
  },
  "kernelspec": {
   "display_name": "Python 3 (ipykernel)",
   "language": "python",
   "name": "python3"
  },
  "language_info": {
   "codemirror_mode": {
    "name": "ipython",
    "version": 3
   },
   "file_extension": ".py",
   "mimetype": "text/x-python",
   "name": "python",
   "nbconvert_exporter": "python",
   "pygments_lexer": "ipython3",
   "version": "3.12.5"
  }
 },
 "nbformat": 4,
 "nbformat_minor": 4
}
